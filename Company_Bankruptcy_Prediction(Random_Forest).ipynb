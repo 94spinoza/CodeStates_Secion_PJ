{
  "nbformat": 4,
  "nbformat_minor": 0,
  "metadata": {
    "colab": {
      "name": "Company Bankruptcy Prediction",
      "provenance": [],
      "collapsed_sections": []
    },
    "kernelspec": {
      "name": "python3",
      "display_name": "Python 3"
    },
    "language_info": {
      "name": "python"
    }
  },
  "cells": [
    {
      "cell_type": "markdown",
      "metadata": {
        "id": "pCtK8AzOJM-W"
      },
      "source": [
        "## Kaggle 데이터 불러오기"
      ]
    },
    {
      "cell_type": "code",
      "metadata": {
        "id": "gBU1eN_s8UGf"
      },
      "source": [
        "# from google.colab import files\n",
        "# files.upload()"
      ],
      "execution_count": 11,
      "outputs": []
    },
    {
      "cell_type": "code",
      "metadata": {
        "colab": {
          "base_uri": "https://localhost:8080/"
        },
        "id": "dCCJN1HW8lrr",
        "outputId": "34a453c9-a7be-4089-bb5f-3d24c94534da"
      },
      "source": [
        "!mkdir -p ~/.kaggle\n",
        "!cp kaggle.json ~/.kaggle/\n",
        "\n",
        "# Permission Warning이 발생하지 않도록 해줍니다.\n",
        "!chmod 600 ~/.kaggle/kaggle.json\n",
        "\n",
        "# 파일 다운로드\n",
        "!kaggle datasets download -d fedesoriano/company-bankruptcy-prediction"
      ],
      "execution_count": 12,
      "outputs": [
        {
          "output_type": "stream",
          "text": [
            "company-bankruptcy-prediction.zip: Skipping, found more recently modified local copy (use --force to force download)\n"
          ],
          "name": "stdout"
        }
      ]
    },
    {
      "cell_type": "code",
      "metadata": {
        "colab": {
          "base_uri": "https://localhost:8080/"
        },
        "id": "K-QbSIek8moB",
        "outputId": "1f93616b-e88e-4e97-be93-f0db363efffa"
      },
      "source": [
        "!unzip company-bankruptcy-prediction.zip"
      ],
      "execution_count": 13,
      "outputs": [
        {
          "output_type": "stream",
          "text": [
            "Archive:  company-bankruptcy-prediction.zip\n",
            "replace data.csv? [y]es, [n]o, [A]ll, [N]one, [r]ename: y\n",
            "  inflating: data.csv                \n"
          ],
          "name": "stdout"
        }
      ]
    },
    {
      "cell_type": "markdown",
      "metadata": {
        "id": "LyG3tEn7JTZ7"
      },
      "source": [
        "## 기준모델"
      ]
    },
    {
      "cell_type": "code",
      "metadata": {
        "colab": {
          "base_uri": "https://localhost:8080/"
        },
        "id": "JnIzXOYC8n9c",
        "outputId": "71ac82c0-6d80-4c49-9f15-0034a2fae7d0"
      },
      "source": [
        "import pandas as pd\n",
        "import matplotlib.pyplot as plt\n",
        "from sklearn.model_selection import train_test_split\n",
        "\n",
        "\n",
        "df_origin = pd.read_csv(\"data.csv\")\n",
        "df, df_test = train_test_split(df_origin, test_size=0.2)\n",
        "\n",
        "target = 'Bankrupt?'\n",
        "\n",
        "## 기준 모델\n",
        "base_accuracy = df_test[target].value_counts(normalize=True)[0]\n",
        "print(\"기준모델 정확도: \", base_accuracy)"
      ],
      "execution_count": 14,
      "outputs": [
        {
          "output_type": "stream",
          "text": [
            "기준모델 정확도:  0.9743401759530792\n"
          ],
          "name": "stdout"
        }
      ]
    },
    {
      "cell_type": "markdown",
      "metadata": {
        "id": "o3cIbV3OJXhh"
      },
      "source": [
        "## Oversampling 통해 데이터 편향 해결"
      ]
    },
    {
      "cell_type": "code",
      "metadata": {
        "colab": {
          "base_uri": "https://localhost:8080/"
        },
        "id": "-lgjX_749VaD",
        "outputId": "056263fc-16b1-42c1-f11d-d08fd06e5c99"
      },
      "source": [
        "from imblearn.over_sampling import SMOTE\n",
        "\n",
        "\n",
        "## Oversampling 통해 데이터 편향 해결\n",
        "oversample = SMOTE(random_state=2)\n",
        "\n",
        "X_a = df.drop(labels=[target], axis=1)\n",
        "y_a = df[target]\n",
        "\n",
        "X, y = oversample.fit_resample(X_a, y_a)\n",
        "X = pd.DataFrame(X, columns=X_a.columns)\n",
        "y = pd.DataFrame(y, columns=['Bankruptcy?'])\n",
        "\n",
        "print(\"Oversampling 이후 기준모델 정확도: \", y.value_counts(normalize=True)[0])"
      ],
      "execution_count": 15,
      "outputs": [
        {
          "output_type": "stream",
          "text": [
            "Oversampling 이후 기준모델 정확도:  Bankruptcy?\n",
            "0              0.5\n",
            "dtype: float64\n"
          ],
          "name": "stdout"
        },
        {
          "output_type": "stream",
          "text": [
            "/usr/local/lib/python3.7/dist-packages/sklearn/utils/deprecation.py:87: FutureWarning: Function safe_indexing is deprecated; safe_indexing is deprecated in version 0.22 and will be removed in version 0.24.\n",
            "  warnings.warn(msg, category=FutureWarning)\n"
          ],
          "name": "stderr"
        }
      ]
    },
    {
      "cell_type": "markdown",
      "metadata": {
        "id": "aGxo5viEJefp"
      },
      "source": [
        "## Train & Validation Data Split"
      ]
    },
    {
      "cell_type": "code",
      "metadata": {
        "id": "ckgnFoSL-3Cp"
      },
      "source": [
        "## Train & Validation Split\n",
        "X_train, X_val, y_train, y_val = train_test_split(X, y, test_size=0.2)"
      ],
      "execution_count": 16,
      "outputs": []
    },
    {
      "cell_type": "markdown",
      "metadata": {
        "id": "E0_VSg5HJi9i"
      },
      "source": [
        "## <Model 1>\n",
        "## Random Forest Classifier 학습시키기"
      ]
    },
    {
      "cell_type": "code",
      "metadata": {
        "colab": {
          "base_uri": "https://localhost:8080/"
        },
        "id": "MQN-nPxI_C8z",
        "outputId": "a2275b60-2a2b-4c1e-c30c-da560c8fc8c0"
      },
      "source": [
        "pip install category_encoders"
      ],
      "execution_count": 17,
      "outputs": [
        {
          "output_type": "stream",
          "text": [
            "Requirement already satisfied: category_encoders in /usr/local/lib/python3.7/dist-packages (2.2.2)\n",
            "Requirement already satisfied: statsmodels>=0.9.0 in /usr/local/lib/python3.7/dist-packages (from category_encoders) (0.10.2)\n",
            "Requirement already satisfied: scikit-learn>=0.20.0 in /usr/local/lib/python3.7/dist-packages (from category_encoders) (0.22.2.post1)\n",
            "Requirement already satisfied: patsy>=0.5.1 in /usr/local/lib/python3.7/dist-packages (from category_encoders) (0.5.1)\n",
            "Requirement already satisfied: numpy>=1.14.0 in /usr/local/lib/python3.7/dist-packages (from category_encoders) (1.19.5)\n",
            "Requirement already satisfied: pandas>=0.21.1 in /usr/local/lib/python3.7/dist-packages (from category_encoders) (1.1.5)\n",
            "Requirement already satisfied: scipy>=1.0.0 in /usr/local/lib/python3.7/dist-packages (from category_encoders) (1.4.1)\n",
            "Requirement already satisfied: joblib>=0.11 in /usr/local/lib/python3.7/dist-packages (from scikit-learn>=0.20.0->category_encoders) (1.0.1)\n",
            "Requirement already satisfied: six in /usr/local/lib/python3.7/dist-packages (from patsy>=0.5.1->category_encoders) (1.15.0)\n",
            "Requirement already satisfied: python-dateutil>=2.7.3 in /usr/local/lib/python3.7/dist-packages (from pandas>=0.21.1->category_encoders) (2.8.1)\n",
            "Requirement already satisfied: pytz>=2017.2 in /usr/local/lib/python3.7/dist-packages (from pandas>=0.21.1->category_encoders) (2018.9)\n"
          ],
          "name": "stdout"
        }
      ]
    },
    {
      "cell_type": "code",
      "metadata": {
        "colab": {
          "base_uri": "https://localhost:8080/"
        },
        "id": "TReVKhn-_Gux",
        "outputId": "64b0f9e1-9906-4f97-e351-7067022d0bc5"
      },
      "source": [
        "from sklearn.pipeline import make_pipeline\n",
        "from category_encoders import OrdinalEncoder\n",
        "from sklearn.impute import SimpleImputer\n",
        "from sklearn.ensemble import RandomForestClassifier\n",
        "\n",
        "## Random Forest Classifier\n",
        "pipe = make_pipeline(\n",
        "    OrdinalEncoder(), \n",
        "    SimpleImputer(),\n",
        "    RandomForestClassifier(random_state=2)\n",
        ")\n",
        "\n",
        "pipe.fit(X_train, y_train)"
      ],
      "execution_count": 18,
      "outputs": [
        {
          "output_type": "stream",
          "text": [
            "/usr/local/lib/python3.7/dist-packages/sklearn/pipeline.py:354: DataConversionWarning: A column-vector y was passed when a 1d array was expected. Please change the shape of y to (n_samples,), for example using ravel().\n",
            "  self._final_estimator.fit(Xt, y, **fit_params)\n"
          ],
          "name": "stderr"
        },
        {
          "output_type": "execute_result",
          "data": {
            "text/plain": [
              "Pipeline(memory=None,\n",
              "         steps=[('ordinalencoder',\n",
              "                 OrdinalEncoder(cols=[], drop_invariant=False,\n",
              "                                handle_missing='value', handle_unknown='value',\n",
              "                                mapping=[], return_df=True, verbose=0)),\n",
              "                ('simpleimputer',\n",
              "                 SimpleImputer(add_indicator=False, copy=True, fill_value=None,\n",
              "                               missing_values=nan, strategy='mean',\n",
              "                               verbose=0)),\n",
              "                ('randomforestclassifier',\n",
              "                 RandomForestClassifier(boo...p=True, ccp_alpha=0.0,\n",
              "                                        class_weight=None, criterion='gini',\n",
              "                                        max_depth=None, max_features='auto',\n",
              "                                        max_leaf_nodes=None, max_samples=None,\n",
              "                                        min_impurity_decrease=0.0,\n",
              "                                        min_impurity_split=None,\n",
              "                                        min_samples_leaf=1, min_samples_split=2,\n",
              "                                        min_weight_fraction_leaf=0.0,\n",
              "                                        n_estimators=100, n_jobs=None,\n",
              "                                        oob_score=False, random_state=2,\n",
              "                                        verbose=0, warm_start=False))],\n",
              "         verbose=False)"
            ]
          },
          "metadata": {
            "tags": []
          },
          "execution_count": 18
        }
      ]
    },
    {
      "cell_type": "markdown",
      "metadata": {
        "id": "yZU_cSlSJsKQ"
      },
      "source": [
        "## Random Forest Classifier 예측하기"
      ]
    },
    {
      "cell_type": "code",
      "metadata": {
        "colab": {
          "base_uri": "https://localhost:8080/",
          "height": 597
        },
        "id": "gh29rDwx_W5P",
        "outputId": "65d3d27a-dbd0-47de-e9a1-527cfc69533d"
      },
      "source": [
        "from sklearn.metrics import classification_report, confusion_matrix, accuracy_score, roc_curve, auc\n",
        "import numpy as np\n",
        "\n",
        "\n",
        "## 데이터 예측하기\n",
        "y_train_pred = pipe.predict(X_train)\n",
        "y_val_pred = pipe.predict(X_val)\n",
        "\n",
        "## Confusion Matrix 출력\n",
        "print(classification_report(y_train,y_train_pred))\n",
        "print(classification_report(y_val,y_val_pred))\n",
        "\n",
        "## ROC Curve 활용\n",
        "fpr, tpr, thresholds = roc_curve(y_val, y_val_pred, pos_label = 1)\n",
        "\n",
        "# ROC curve\n",
        "plt.plot(fpr,tpr)\n",
        "\n",
        "# AUC\n",
        "auc = np.trapz(tpr,fpr)\n",
        "print(\"AUC:\",auc)"
      ],
      "execution_count": 19,
      "outputs": [
        {
          "output_type": "stream",
          "text": [
            "              precision    recall  f1-score   support\n",
            "\n",
            "           0       1.00      1.00      1.00      4209\n",
            "           1       1.00      1.00      1.00      4223\n",
            "\n",
            "    accuracy                           1.00      8432\n",
            "   macro avg       1.00      1.00      1.00      8432\n",
            "weighted avg       1.00      1.00      1.00      8432\n",
            "\n",
            "              precision    recall  f1-score   support\n",
            "\n",
            "           0       1.00      0.96      0.98      1061\n",
            "           1       0.96      1.00      0.98      1047\n",
            "\n",
            "    accuracy                           0.98      2108\n",
            "   macro avg       0.98      0.98      0.98      2108\n",
            "weighted avg       0.98      0.98      0.98      2108\n",
            "\n",
            "AUC: 0.9797171938674927\n"
          ],
          "name": "stdout"
        },
        {
          "output_type": "display_data",
          "data": {
            "image/png": "[encoded data removed]",
            "text/plain": [
              "<Figure size 432x288 with 1 Axes>"
            ]
          },
          "metadata": {
            "tags": [],
            "needs_background": "light"
          }
        }
      ]
    },
    {
      "cell_type": "markdown",
      "metadata": {
        "id": "zFxuUuLoJyJM"
      },
      "source": [
        "## Permutation Importance 알아보기"
      ]
    },
    {
      "cell_type": "code",
      "metadata": {
        "colab": {
          "base_uri": "https://localhost:8080/"
        },
        "id": "HPr8tW7V_siB",
        "outputId": "ee18a549-f651-498b-d9b3-5a3395a0ebf8"
      },
      "source": [
        "pip install eli5"
      ],
      "execution_count": 20,
      "outputs": [
        {
          "output_type": "stream",
          "text": [
            "Collecting eli5\n",
            "\u001b[?25l  Downloading https://files.pythonhosted.org/packages/d1/54/04cab6e1c0ae535bec93f795d8403fdf6caf66fa5a6512263202dbb14ea6/eli5-0.11.0-py2.py3-none-any.whl (106kB)\n",
            "\r\u001b[K     |███                             | 10kB 14.5MB/s eta 0:00:01\r\u001b[K     |██████▏                         | 20kB 19.3MB/s eta 0:00:01\r\u001b[K     |█████████▎                      | 30kB 13.1MB/s eta 0:00:01\r\u001b[K     |████████████▍                   | 40kB 10.1MB/s eta 0:00:01\r\u001b[K     |███████████████▌                | 51kB 5.5MB/s eta 0:00:01\r\u001b[K     |██████████████████▌             | 61kB 5.8MB/s eta 0:00:01\r\u001b[K     |█████████████████████▋          | 71kB 5.9MB/s eta 0:00:01\r\u001b[K     |████████████████████████▊       | 81kB 5.9MB/s eta 0:00:01\r\u001b[K     |███████████████████████████▉    | 92kB 6.1MB/s eta 0:00:01\r\u001b[K     |███████████████████████████████ | 102kB 6.4MB/s eta 0:00:01\r\u001b[K     |████████████████████████████████| 112kB 6.4MB/s \n",
            "\u001b[?25hRequirement already satisfied: scikit-learn>=0.20 in /usr/local/lib/python3.7/dist-packages (from eli5) (0.22.2.post1)\n",
            "Requirement already satisfied: graphviz in /usr/local/lib/python3.7/dist-packages (from eli5) (0.10.1)\n",
            "Requirement already satisfied: numpy>=1.9.0 in /usr/local/lib/python3.7/dist-packages (from eli5) (1.19.5)\n",
            "Requirement already satisfied: attrs>16.0.0 in /usr/local/lib/python3.7/dist-packages (from eli5) (21.2.0)\n",
            "Requirement already satisfied: scipy in /usr/local/lib/python3.7/dist-packages (from eli5) (1.4.1)\n",
            "Requirement already satisfied: tabulate>=0.7.7 in /usr/local/lib/python3.7/dist-packages (from eli5) (0.8.9)\n",
            "Requirement already satisfied: six in /usr/local/lib/python3.7/dist-packages (from eli5) (1.15.0)\n",
            "Requirement already satisfied: jinja2 in /usr/local/lib/python3.7/dist-packages (from eli5) (2.11.3)\n",
            "Requirement already satisfied: joblib>=0.11 in /usr/local/lib/python3.7/dist-packages (from scikit-learn>=0.20->eli5) (1.0.1)\n",
            "Requirement already satisfied: MarkupSafe>=0.23 in /usr/local/lib/python3.7/dist-packages (from jinja2->eli5) (2.0.1)\n",
            "Installing collected packages: eli5\n",
            "Successfully installed eli5-0.11.0\n"
          ],
          "name": "stdout"
        }
      ]
    },
    {
      "cell_type": "code",
      "metadata": {
        "colab": {
          "base_uri": "https://localhost:8080/"
        },
        "id": "QXeYokf2_tc1",
        "outputId": "528f79a4-fb57-4e29-c736-f9e80cc0290b"
      },
      "source": [
        "from sklearn.pipeline import Pipeline\n",
        "import warnings\n",
        "import eli5\n",
        "from eli5.sklearn import PermutationImportance\n",
        "\n",
        "## Permutation Importance 활용\n",
        "# encoder, imputer를 preprocessing으로 묶었습니다. 후에 eli5 permutation 계산에 사용합니다\n",
        "pipe_per = Pipeline([\n",
        "    ('preprocessing', make_pipeline(OrdinalEncoder(), SimpleImputer())),\n",
        "    ('rf', RandomForestClassifier(n_estimators=100, random_state=2, n_jobs=-1)) \n",
        "])\n",
        "\n",
        "pipe_per.fit(X_train, y_train)\n",
        "\n",
        "\n",
        "## Permutation Part\n",
        "warnings.simplefilter(action='ignore', category=FutureWarning)\n",
        "\n",
        "# permuter 정의\n",
        "permuter = PermutationImportance(\n",
        "    pipe_per.named_steps['rf'], # model\n",
        "    scoring='roc_auc', # metric\n",
        "    n_iter=5, # 다른 random seed를 사용하여 5번 반복\n",
        "    random_state=2\n",
        ")\n",
        "\n",
        "# permuter 계산은 preprocessing 된 X_val을 사용합니다.\n",
        "X_val_transformed = pipe_per.named_steps['preprocessing'].transform(X_val)\n",
        "\n",
        "# 실제로 fit 의미보다는 스코어를 다시 계산하는 작업입니다\n",
        "permuter.fit(X_val_transformed, y_val)"
      ],
      "execution_count": 21,
      "outputs": [
        {
          "output_type": "stream",
          "text": [
            "/usr/local/lib/python3.7/dist-packages/sklearn/utils/deprecation.py:144: FutureWarning: The sklearn.feature_selection.base module is  deprecated in version 0.22 and will be removed in version 0.24. The corresponding classes / functions should instead be imported from sklearn.feature_selection. Anything that cannot be imported from sklearn.feature_selection is now part of the private API.\n",
            "  warnings.warn(message, FutureWarning)\n",
            "/usr/local/lib/python3.7/dist-packages/sklearn/pipeline.py:354: DataConversionWarning: A column-vector y was passed when a 1d array was expected. Please change the shape of y to (n_samples,), for example using ravel().\n",
            "  self._final_estimator.fit(Xt, y, **fit_params)\n"
          ],
          "name": "stderr"
        },
        {
          "output_type": "execute_result",
          "data": {
            "text/plain": [
              "PermutationImportance(cv='prefit',\n",
              "                      estimator=RandomForestClassifier(bootstrap=True,\n",
              "                                                       ccp_alpha=0.0,\n",
              "                                                       class_weight=None,\n",
              "                                                       criterion='gini',\n",
              "                                                       max_depth=None,\n",
              "                                                       max_features='auto',\n",
              "                                                       max_leaf_nodes=None,\n",
              "                                                       max_samples=None,\n",
              "                                                       min_impurity_decrease=0.0,\n",
              "                                                       min_impurity_split=None,\n",
              "                                                       min_samples_leaf=1,\n",
              "                                                       min_samples_split=2,\n",
              "                                                       min_weight_fraction_leaf=0.0,\n",
              "                                                       n_estimators=100,\n",
              "                                                       n_jobs=-1,\n",
              "                                                       oob_score=False,\n",
              "                                                       random_state=2,\n",
              "                                                       verbose=0,\n",
              "                                                       warm_start=False),\n",
              "                      n_iter=5, random_state=2, refit=True, scoring='roc_auc')"
            ]
          },
          "metadata": {
            "tags": []
          },
          "execution_count": 21
        }
      ]
    },
    {
      "cell_type": "code",
      "metadata": {
        "colab": {
          "base_uri": "https://localhost:8080/"
        },
        "id": "OKzIIJPLAxCN",
        "outputId": "338f1c69-da7e-4399-a1fc-19dbf86607a7"
      },
      "source": [
        "feature_names = X_val.columns.tolist()\n",
        "print(\"총 변수의 개수 : \", len(feature_names))\n",
        "pd.Series(permuter.feature_importances_, feature_names).sort_values()"
      ],
      "execution_count": 22,
      "outputs": [
        {
          "output_type": "stream",
          "text": [
            "총 변수의 개수 :  95\n"
          ],
          "name": "stdout"
        },
        {
          "output_type": "execute_result",
          "data": {
            "text/plain": [
              " Net Income Flag                                0.000000e+00\n",
              " Liability-Assets Flag                          5.401187e-07\n",
              " Current Assets/Total Assets                    1.107243e-05\n",
              " ROA(A) before interest and % after tax         1.332293e-05\n",
              " Inventory and accounts receivable/Net value    1.494328e-05\n",
              "                                                    ...     \n",
              " Retained Earnings to Total Assets              8.640098e-04\n",
              " Total debt/Total net worth                     9.120804e-04\n",
              " Continuous interest rate (after tax)           1.158555e-03\n",
              " Interest-bearing debt interest rate            1.319690e-03\n",
              " Borrowing dependency                           1.752685e-03\n",
              "Length: 95, dtype: float64"
            ]
          },
          "metadata": {
            "tags": []
          },
          "execution_count": 22
        }
      ]
    },
    {
      "cell_type": "code",
      "metadata": {
        "colab": {
          "base_uri": "https://localhost:8080/"
        },
        "id": "MO0SY7yvAyiD",
        "outputId": "82e14b1b-a40f-4e0a-f3b7-3c6997dd09d2"
      },
      "source": [
        " ## 중요하지 않은 변수 삭제\n",
        "minimum_importance = 0.001\n",
        "mask = permuter.feature_importances_ > minimum_importance\n",
        "features = X_train.columns[mask]\n",
        "\n",
        "X_train_selected = X_train[features]\n",
        "X_val_selected = X_val[features]\n",
        "\n",
        "\n",
        "## 삭제 후 새로운 Pipeline\n",
        "pipe_sel = Pipeline([\n",
        "    ('preprocessing', make_pipeline(OrdinalEncoder(), SimpleImputer())),\n",
        "    ('rf', RandomForestClassifier(n_estimators=100, random_state=2, n_jobs=-1)) \n",
        "], verbose=1)\n",
        "\n",
        "pipe_sel.fit(X_train_selected, y_train)\n",
        "\n",
        "print(\"총 변수의 개수 : \", len(X_val_selected.columns.tolist()))\n",
        "print('시험 정확도 : ', pipe_sel.score(X_val_selected, y_val))"
      ],
      "execution_count": 23,
      "outputs": [
        {
          "output_type": "stream",
          "text": [
            "[Pipeline] ..... (step 1 of 2) Processing preprocessing, total=   0.0s\n"
          ],
          "name": "stdout"
        },
        {
          "output_type": "stream",
          "text": [
            "/usr/local/lib/python3.7/dist-packages/sklearn/pipeline.py:354: DataConversionWarning: A column-vector y was passed when a 1d array was expected. Please change the shape of y to (n_samples,), for example using ravel().\n",
            "  self._final_estimator.fit(Xt, y, **fit_params)\n"
          ],
          "name": "stderr"
        },
        {
          "output_type": "stream",
          "text": [
            "[Pipeline] ................ (step 2 of 2) Processing rf, total=   0.7s\n",
            "총 변수의 개수 :  3\n",
            "시험 정확도 :  0.9335863377609108\n"
          ],
          "name": "stdout"
        }
      ]
    },
    {
      "cell_type": "markdown",
      "metadata": {
        "id": "6q-3LXf0K0ge"
      },
      "source": [
        "## Permutation Importance 분석으로 불필요한 변수 삭제 후 성능"
      ]
    },
    {
      "cell_type": "code",
      "metadata": {
        "colab": {
          "base_uri": "https://localhost:8080/",
          "height": 440
        },
        "id": "g0k7qSZeBG2A",
        "outputId": "561d1356-5bf2-4d30-eb53-7e0746d15acb"
      },
      "source": [
        "## Confusion Matrix 출력\n",
        "y_val_selected_pred = pipe_sel.predict(X_val_selected)\n",
        "print(classification_report(y_val, y_val_selected_pred))\n",
        "\n",
        "## ROC Curve 활용\n",
        "fpr, tpr, thresholds = roc_curve(y_val, y_val_selected_pred, pos_label = 1)\n",
        "\n",
        "# ROC curve\n",
        "plt.plot(fpr,tpr)\n",
        "\n",
        "# AUC\n",
        "auc = np.trapz(tpr,fpr)\n",
        "print(\"AUC:\",auc)"
      ],
      "execution_count": 24,
      "outputs": [
        {
          "output_type": "stream",
          "text": [
            "              precision    recall  f1-score   support\n",
            "\n",
            "           0       0.96      0.91      0.93      1061\n",
            "           1       0.91      0.96      0.93      1047\n",
            "\n",
            "    accuracy                           0.93      2108\n",
            "   macro avg       0.93      0.93      0.93      2108\n",
            "weighted avg       0.93      0.93      0.93      2108\n",
            "\n",
            "AUC: 0.9337598470383943\n"
          ],
          "name": "stdout"
        },
        {
          "output_type": "display_data",
          "data": {
            "image/png": "[encoded data removed]",
            "text/plain": [
              "<Figure size 432x288 with 1 Axes>"
            ]
          },
          "metadata": {
            "tags": [],
            "needs_background": "light"
          }
        }
      ]
    },
    {
      "cell_type": "markdown",
      "metadata": {
        "id": "OkoRNRPi2UGx"
      },
      "source": [
        "## Oversampling하여 학습한 모델을 비대칭적인 데이터셋에 적용"
      ]
    },
    {
      "cell_type": "code",
      "metadata": {
        "colab": {
          "base_uri": "https://localhost:8080/",
          "height": 440
        },
        "id": "U9jqP8GP2YtZ",
        "outputId": "b6e9ee28-ce14-478b-b9f3-de2554e97e46"
      },
      "source": [
        "X_test = df_test.drop(labels=[target], axis=1)\n",
        "X_test_selected = X_test[features]\n",
        "y_test = df_test[target]\n",
        "\n",
        "## Confusion Matrix 출력\n",
        "y_test_selected_pred = pipe_sel.predict(X_test_selected)\n",
        "print(classification_report(y_test, y_test_selected_pred))\n",
        "\n",
        "## ROC Curve 활용\n",
        "fpr, tpr, thresholds = roc_curve(y_test, y_test_selected_pred, pos_label = 1)\n",
        "\n",
        "# ROC curve\n",
        "plt.plot(fpr,tpr)\n",
        "\n",
        "# AUC\n",
        "auc = np.trapz(tpr,fpr)\n",
        "print(\"AUC:\",auc)"
      ],
      "execution_count": 25,
      "outputs": [
        {
          "output_type": "stream",
          "text": [
            "              precision    recall  f1-score   support\n",
            "\n",
            "           0       0.99      0.92      0.95      1329\n",
            "           1       0.17      0.63      0.26        35\n",
            "\n",
            "    accuracy                           0.91      1364\n",
            "   macro avg       0.58      0.77      0.61      1364\n",
            "weighted avg       0.97      0.91      0.93      1364\n",
            "\n",
            "AUC: 0.7725249919380845\n"
          ],
          "name": "stdout"
        },
        {
          "output_type": "display_data",
          "data": {
            "image/png": "[encoded data removed]",
            "text/plain": [
              "<Figure size 432x288 with 1 Axes>"
            ]
          },
          "metadata": {
            "tags": [],
            "needs_background": "light"
          }
        }
      ]
    },
    {
      "cell_type": "code",
      "metadata": {
        "colab": {
          "base_uri": "https://localhost:8080/"
        },
        "id": "2CmIt8VzbuCA",
        "outputId": "de162bd9-e118-4722-d0b0-fbb786b16350"
      },
      "source": [
        "## Permutation Importance 활용\n",
        "# encoder, imputer를 preprocessing으로 묶었습니다. 후에 eli5 permutation 계산에 사용합니다\n",
        "pipe_per = Pipeline([\n",
        "    ('preprocessing', make_pipeline(OrdinalEncoder(), SimpleImputer())),\n",
        "    ('rf', RandomForestClassifier(n_estimators=100, random_state=2, n_jobs=-1)) \n",
        "])\n",
        "\n",
        "pipe_per.fit(X_train_selected, y_train)\n",
        "\n",
        "\n",
        "## Permutation Part\n",
        "warnings.simplefilter(action='ignore', category=FutureWarning)\n",
        "\n",
        "# permuter 정의\n",
        "permuter = PermutationImportance(\n",
        "    pipe_per.named_steps['rf'], # model\n",
        "    scoring='roc_auc', # metric\n",
        "    n_iter=5, # 다른 random seed를 사용하여 5번 반복\n",
        "    random_state=2\n",
        ")\n",
        "\n",
        "# permuter 계산은 preprocessing 된 X_val을 사용합니다.\n",
        "X_test_transformed = pipe_per.named_steps['preprocessing'].transform(X_test_selected)\n",
        "\n",
        "# 실제로 fit 의미보다는 스코어를 다시 계산하는 작업입니다\n",
        "permuter.fit(X_test_transformed, y_test)"
      ],
      "execution_count": 26,
      "outputs": [
        {
          "output_type": "stream",
          "text": [
            "/usr/local/lib/python3.7/dist-packages/sklearn/pipeline.py:354: DataConversionWarning: A column-vector y was passed when a 1d array was expected. Please change the shape of y to (n_samples,), for example using ravel().\n",
            "  self._final_estimator.fit(Xt, y, **fit_params)\n"
          ],
          "name": "stderr"
        },
        {
          "output_type": "execute_result",
          "data": {
            "text/plain": [
              "PermutationImportance(cv='prefit',\n",
              "                      estimator=RandomForestClassifier(bootstrap=True,\n",
              "                                                       ccp_alpha=0.0,\n",
              "                                                       class_weight=None,\n",
              "                                                       criterion='gini',\n",
              "                                                       max_depth=None,\n",
              "                                                       max_features='auto',\n",
              "                                                       max_leaf_nodes=None,\n",
              "                                                       max_samples=None,\n",
              "                                                       min_impurity_decrease=0.0,\n",
              "                                                       min_impurity_split=None,\n",
              "                                                       min_samples_leaf=1,\n",
              "                                                       min_samples_split=2,\n",
              "                                                       min_weight_fraction_leaf=0.0,\n",
              "                                                       n_estimators=100,\n",
              "                                                       n_jobs=-1,\n",
              "                                                       oob_score=False,\n",
              "                                                       random_state=2,\n",
              "                                                       verbose=0,\n",
              "                                                       warm_start=False),\n",
              "                      n_iter=5, random_state=2, refit=True, scoring='roc_auc')"
            ]
          },
          "metadata": {
            "tags": []
          },
          "execution_count": 26
        }
      ]
    },
    {
      "cell_type": "code",
      "metadata": {
        "colab": {
          "base_uri": "https://localhost:8080/"
        },
        "id": "-eaLPT8xb-99",
        "outputId": "6d9e985e-2152-4728-a4f3-c1fc9c2b3293"
      },
      "source": [
        "feature_names = X_test_selected.columns.tolist()\n",
        "print(\"총 변수의 개수 : \", len(feature_names))\n",
        "pd.Series(permuter.feature_importances_, feature_names).sort_values()"
      ],
      "execution_count": 27,
      "outputs": [
        {
          "output_type": "stream",
          "text": [
            "총 변수의 개수 :  3\n"
          ],
          "name": "stdout"
        },
        {
          "output_type": "execute_result",
          "data": {
            "text/plain": [
              " Interest-bearing debt interest rate     0.013503\n",
              " Borrowing dependency                    0.095358\n",
              " Continuous interest rate (after tax)    0.110659\n",
              "dtype: float64"
            ]
          },
          "metadata": {
            "tags": []
          },
          "execution_count": 27
        }
      ]
    },
    {
      "cell_type": "markdown",
      "metadata": {
        "id": "VPMiVgMq_Y4P"
      },
      "source": [
        "## 모두 파산 안한다고(0) 예측할 경우"
      ]
    },
    {
      "cell_type": "code",
      "metadata": {
        "colab": {
          "base_uri": "https://localhost:8080/",
          "height": 495
        },
        "id": "CenIJvLx-xN-",
        "outputId": "09b10ae9-18f0-4b77-bd74-e29a705a9483"
      },
      "source": [
        "y_deny = pd.DataFrame({'Bankruptcy?':[0]*1364})\n",
        "\n",
        "## Confusion Matrix 출력\n",
        "print(classification_report(y_test, y_deny))\n",
        "\n",
        "## ROC Curve 활용\n",
        "fpr, tpr, thresholds = roc_curve(y_test, y_deny, pos_label = 1)\n",
        "\n",
        "# ROC curve\n",
        "plt.plot(fpr,tpr)\n",
        "\n",
        "# AUC\n",
        "auc = np.trapz(tpr,fpr)\n",
        "print(\"AUC:\",auc)"
      ],
      "execution_count": 28,
      "outputs": [
        {
          "output_type": "stream",
          "text": [
            "              precision    recall  f1-score   support\n",
            "\n",
            "           0       0.97      1.00      0.99      1329\n",
            "           1       0.00      0.00      0.00        35\n",
            "\n",
            "    accuracy                           0.97      1364\n",
            "   macro avg       0.49      0.50      0.49      1364\n",
            "weighted avg       0.95      0.97      0.96      1364\n",
            "\n",
            "AUC: 0.5\n"
          ],
          "name": "stdout"
        },
        {
          "output_type": "stream",
          "text": [
            "/usr/local/lib/python3.7/dist-packages/sklearn/metrics/_classification.py:1272: UndefinedMetricWarning: Precision and F-score are ill-defined and being set to 0.0 in labels with no predicted samples. Use `zero_division` parameter to control this behavior.\n",
            "  _warn_prf(average, modifier, msg_start, len(result))\n"
          ],
          "name": "stderr"
        },
        {
          "output_type": "display_data",
          "data": {
            "image/png": "[encoded data removed]",
            "text/plain": [
              "<Figure size 432x288 with 1 Axes>"
            ]
          },
          "metadata": {
            "tags": [],
            "needs_background": "light"
          }
        }
      ]
    },
    {
      "cell_type": "markdown",
      "metadata": {
        "id": "1UYXgMsaLbEB"
      },
      "source": [
        "변수들을 많이 삭제했음에도 성능을 아주 약간밖에 떨어지지 않음"
      ]
    },
    {
      "cell_type": "markdown",
      "metadata": {
        "id": "qDp09_Q3LABI"
      },
      "source": [
        "## Oversampling하지 않고 학습한 모델의 성능"
      ]
    },
    {
      "cell_type": "code",
      "metadata": {
        "colab": {
          "base_uri": "https://localhost:8080/",
          "height": 492
        },
        "id": "777gQSFeB4wi",
        "outputId": "fd7d03a7-b345-488a-9071-0c817f8ae17c"
      },
      "source": [
        "## 원래 데이터에 모델 대입해보기\n",
        "## 기준모델\n",
        "base_accuracy_origin = df[target].value_counts(normalize=True)\n",
        "print(base_accuracy_origin)\n",
        "\n",
        "### 기본적인 모델\n",
        "pipe_org = make_pipeline(\n",
        "    OrdinalEncoder(), \n",
        "    SimpleImputer(),\n",
        "    RandomForestClassifier(random_state=2)\n",
        ")\n",
        "\n",
        "# 중요한 Featrues 추출 후 모델 Fit\n",
        "X_origin = df.drop(labels=[target], axis=1)[features]\n",
        "y_origin = df[target]\n",
        "pipe_org.fit(X_origin, y_origin)\n",
        "\n",
        "## Confusion Matrix 출력\n",
        "y_test_origin_pred = pipe_org.predict(X_test_selected)\n",
        "print(classification_report(y_test, y_test_origin_pred))\n",
        "\n",
        "## ROC Curve 활용\n",
        "fpr, tpr, thresholds = roc_curve(y_test, y_test_origin_pred, pos_label = 1)\n",
        "\n",
        "# ROC curve\n",
        "plt.plot(fpr,tpr)\n",
        "\n",
        "# AUC\n",
        "auc = np.trapz(tpr,fpr)\n",
        "print(\"AUC:\",auc)"
      ],
      "execution_count": 29,
      "outputs": [
        {
          "output_type": "stream",
          "text": [
            "0    0.966086\n",
            "1    0.033914\n",
            "Name: Bankrupt?, dtype: float64\n",
            "              precision    recall  f1-score   support\n",
            "\n",
            "           0       0.98      1.00      0.99      1329\n",
            "           1       0.45      0.14      0.22        35\n",
            "\n",
            "    accuracy                           0.97      1364\n",
            "   macro avg       0.72      0.57      0.60      1364\n",
            "weighted avg       0.96      0.97      0.97      1364\n",
            "\n",
            "AUC: 0.5691712350854563\n"
          ],
          "name": "stdout"
        },
        {
          "output_type": "display_data",
          "data": {
            "image/png": "[encoded data removed]",
            "text/plain": [
              "<Figure size 432x288 with 1 Axes>"
            ]
          },
          "metadata": {
            "tags": [],
            "needs_background": "light"
          }
        }
      ]
    },
    {
      "cell_type": "markdown",
      "metadata": {
        "id": "QnWzQTtZAv8_"
      },
      "source": [
        "## PDP & SHAP 활용하여 설명하기"
      ]
    },
    {
      "cell_type": "code",
      "metadata": {
        "id": "Kmrg5AgJA4Qh",
        "colab": {
          "base_uri": "https://localhost:8080/",
          "height": 640
        },
        "outputId": "3abf12e6-8b93-4ed4-9cf3-db86cf40339f"
      },
      "source": [
        "pip install pdpbox"
      ],
      "execution_count": 30,
      "outputs": [
        {
          "output_type": "stream",
          "text": [
            "Collecting pdpbox\n",
            "\u001b[?25l  Downloading https://files.pythonhosted.org/packages/d5/6b/8b214723ff134f6b3f69a77c5bbd9d80db86ce01d3a970a5dbbab45c57fc/PDPbox-0.2.1.tar.gz (34.0MB)\n",
            "\u001b[K     |████████████████████████████████| 34.0MB 89kB/s \n",
            "\u001b[?25hRequirement already satisfied: pandas in /usr/local/lib/python3.7/dist-packages (from pdpbox) (1.1.5)\n",
            "Requirement already satisfied: numpy in /usr/local/lib/python3.7/dist-packages (from pdpbox) (1.19.5)\n",
            "Requirement already satisfied: scipy in /usr/local/lib/python3.7/dist-packages (from pdpbox) (1.4.1)\n",
            "Requirement already satisfied: joblib in /usr/local/lib/python3.7/dist-packages (from pdpbox) (1.0.1)\n",
            "Requirement already satisfied: psutil in /usr/local/lib/python3.7/dist-packages (from pdpbox) (5.4.8)\n",
            "Collecting matplotlib==3.1.1\n",
            "\u001b[?25l  Downloading https://files.pythonhosted.org/packages/19/7a/60bd79c5d79559150f8bba866dd7d434f0a170312e4d15e8aefa5faba294/matplotlib-3.1.1-cp37-cp37m-manylinux1_x86_64.whl (13.1MB)\n",
            "\u001b[K     |████████████████████████████████| 13.1MB 237kB/s \n",
            "\u001b[?25hRequirement already satisfied: sklearn in /usr/local/lib/python3.7/dist-packages (from pdpbox) (0.0)\n",
            "Requirement already satisfied: pytz>=2017.2 in /usr/local/lib/python3.7/dist-packages (from pandas->pdpbox) (2018.9)\n",
            "Requirement already satisfied: python-dateutil>=2.7.3 in /usr/local/lib/python3.7/dist-packages (from pandas->pdpbox) (2.8.1)\n",
            "Requirement already satisfied: kiwisolver>=1.0.1 in /usr/local/lib/python3.7/dist-packages (from matplotlib==3.1.1->pdpbox) (1.3.1)\n",
            "Requirement already satisfied: cycler>=0.10 in /usr/local/lib/python3.7/dist-packages (from matplotlib==3.1.1->pdpbox) (0.10.0)\n",
            "Requirement already satisfied: pyparsing!=2.0.4,!=2.1.2,!=2.1.6,>=2.0.1 in /usr/local/lib/python3.7/dist-packages (from matplotlib==3.1.1->pdpbox) (2.4.7)\n",
            "Requirement already satisfied: scikit-learn in /usr/local/lib/python3.7/dist-packages (from sklearn->pdpbox) (0.22.2.post1)\n",
            "Requirement already satisfied: six>=1.5 in /usr/local/lib/python3.7/dist-packages (from python-dateutil>=2.7.3->pandas->pdpbox) (1.15.0)\n",
            "Building wheels for collected packages: pdpbox\n",
            "  Building wheel for pdpbox (setup.py) ... \u001b[?25l\u001b[?25hdone\n",
            "  Created wheel for pdpbox: filename=PDPbox-0.2.1-cp37-none-any.whl size=35758227 sha256=06ebfc307be39ebb5951b323df974c5baae9884f72d34e6a45458d92879def1c\n",
            "  Stored in directory: /root/.cache/pip/wheels/c8/13/11/ecac74c6192790c94f6f5d919f1a388f927b9febb690e45eef\n",
            "Successfully built pdpbox\n",
            "\u001b[31mERROR: albumentations 0.1.12 has requirement imgaug<0.2.7,>=0.2.5, but you'll have imgaug 0.2.9 which is incompatible.\u001b[0m\n",
            "Installing collected packages: matplotlib, pdpbox\n",
            "  Found existing installation: matplotlib 3.2.2\n",
            "    Uninstalling matplotlib-3.2.2:\n",
            "      Successfully uninstalled matplotlib-3.2.2\n",
            "Successfully installed matplotlib-3.1.1 pdpbox-0.2.1\n"
          ],
          "name": "stdout"
        },
        {
          "output_type": "display_data",
          "data": {
            "application/vnd.colab-display-data+json": {
              "pip_warning": {
                "packages": [
                  "matplotlib",
                  "mpl_toolkits"
                ]
              }
            }
          },
          "metadata": {
            "tags": []
          }
        }
      ]
    },
    {
      "cell_type": "code",
      "metadata": {
        "id": "Nmr9G4ArA0xb",
        "colab": {
          "base_uri": "https://localhost:8080/",
          "height": 1000
        },
        "outputId": "e97b9c61-33d4-4d28-bcc0-2ed36699c47d"
      },
      "source": [
        "import matplotlib.pyplot as plt\n",
        "from pdpbox import pdp\n",
        "\n",
        "\n",
        "preprocessing = pipe_sel.named_steps['preprocessing']\n",
        "X_preprocessed = preprocessing.fit_transform(X_test_selected)\n",
        "X_preprocessed = pd.DataFrame(columns=features, data=X_preprocessed)\n",
        "rf = pipe_sel.named_steps['rf']\n",
        "\n",
        "for feature in features:\n",
        "  pdp_dist = pdp.pdp_isolate(model=rf, dataset=X_preprocessed, model_features=features, feature=feature)\n",
        "  pdp.pdp_plot(pdp_dist, feature)"
      ],
      "execution_count": 31,
      "outputs": [
        {
          "output_type": "stream",
          "text": [
            "findfont: Font family ['Arial'] not found. Falling back to DejaVu Sans.\n",
            "findfont: Font family ['Arial'] not found. Falling back to DejaVu Sans.\n",
            "findfont: Font family ['Arial'] not found. Falling back to DejaVu Sans.\n",
            "findfont: Font family ['Arial'] not found. Falling back to DejaVu Sans.\n"
          ],
          "name": "stderr"
        },
        {
          "output_type": "display_data",
          "data": {
            "image/png": "[encoded data removed]",
            "text/plain": [
              "<Figure size 1080x684 with 2 Axes>"
            ]
          },
          "metadata": {
            "tags": [],
            "needs_background": "light"
          }
        },
        {
          "output_type": "display_data",
          "data": {
            "image/png": "[encoded data removed]",
            "text/plain": [
              "<Figure size 1080x684 with 2 Axes>"
            ]
          },
          "metadata": {
            "tags": [],
            "needs_background": "light"
          }
        },
        {
          "output_type": "display_data",
          "data": {
            "image/png": "[encoded data removed]",
            "text/plain": [
              "<Figure size 1080x684 with 2 Axes>"
            ]
          },
          "metadata": {
            "tags": [],
            "needs_background": "light"
          }
        }
      ]
    },
    {
      "cell_type": "code",
      "metadata": {
        "id": "ZJiBKROAElQj",
        "colab": {
          "base_uri": "https://localhost:8080/"
        },
        "outputId": "030f7e55-f232-47e0-c74e-71bd8890b211"
      },
      "source": [
        "pip install shap"
      ],
      "execution_count": 32,
      "outputs": [
        {
          "output_type": "stream",
          "text": [
            "Collecting shap\n",
            "\u001b[?25l  Downloading https://files.pythonhosted.org/packages/b9/f4/c5b95cddae15be80f8e58b25edceca105aa83c0b8c86a1edad24a6af80d3/shap-0.39.0.tar.gz (356kB)\n",
            "\r\u001b[K     |█                               | 10kB 15.7MB/s eta 0:00:01\r\u001b[K     |█▉                              | 20kB 20.6MB/s eta 0:00:01\r\u001b[K     |██▊                             | 30kB 13.8MB/s eta 0:00:01\r\u001b[K     |███▊                            | 40kB 10.6MB/s eta 0:00:01\r\u001b[K     |████▋                           | 51kB 5.5MB/s eta 0:00:01\r\u001b[K     |█████▌                          | 61kB 5.7MB/s eta 0:00:01\r\u001b[K     |██████▍                         | 71kB 6.1MB/s eta 0:00:01\r\u001b[K     |███████▍                        | 81kB 6.1MB/s eta 0:00:01\r\u001b[K     |████████▎                       | 92kB 6.2MB/s eta 0:00:01\r\u001b[K     |█████████▏                      | 102kB 6.4MB/s eta 0:00:01\r\u001b[K     |██████████▏                     | 112kB 6.4MB/s eta 0:00:01\r\u001b[K     |███████████                     | 122kB 6.4MB/s eta 0:00:01\r\u001b[K     |████████████                    | 133kB 6.4MB/s eta 0:00:01\r\u001b[K     |████████████▉                   | 143kB 6.4MB/s eta 0:00:01\r\u001b[K     |█████████████▉                  | 153kB 6.4MB/s eta 0:00:01\r\u001b[K     |██████████████▊                 | 163kB 6.4MB/s eta 0:00:01\r\u001b[K     |███████████████▋                | 174kB 6.4MB/s eta 0:00:01\r\u001b[K     |████████████████▋               | 184kB 6.4MB/s eta 0:00:01\r\u001b[K     |█████████████████▌              | 194kB 6.4MB/s eta 0:00:01\r\u001b[K     |██████████████████▍             | 204kB 6.4MB/s eta 0:00:01\r\u001b[K     |███████████████████▎            | 215kB 6.4MB/s eta 0:00:01\r\u001b[K     |████████████████████▎           | 225kB 6.4MB/s eta 0:00:01\r\u001b[K     |█████████████████████▏          | 235kB 6.4MB/s eta 0:00:01\r\u001b[K     |██████████████████████          | 245kB 6.4MB/s eta 0:00:01\r\u001b[K     |███████████████████████         | 256kB 6.4MB/s eta 0:00:01\r\u001b[K     |████████████████████████        | 266kB 6.4MB/s eta 0:00:01\r\u001b[K     |████████████████████████▉       | 276kB 6.4MB/s eta 0:00:01\r\u001b[K     |█████████████████████████▊      | 286kB 6.4MB/s eta 0:00:01\r\u001b[K     |██████████████████████████▊     | 296kB 6.4MB/s eta 0:00:01\r\u001b[K     |███████████████████████████▋    | 307kB 6.4MB/s eta 0:00:01\r\u001b[K     |████████████████████████████▌   | 317kB 6.4MB/s eta 0:00:01\r\u001b[K     |█████████████████████████████▍  | 327kB 6.4MB/s eta 0:00:01\r\u001b[K     |██████████████████████████████▍ | 337kB 6.4MB/s eta 0:00:01\r\u001b[K     |███████████████████████████████▎| 348kB 6.4MB/s eta 0:00:01\r\u001b[K     |████████████████████████████████| 358kB 6.4MB/s \n",
            "\u001b[?25hRequirement already satisfied: numpy in /usr/local/lib/python3.7/dist-packages (from shap) (1.19.5)\n",
            "Requirement already satisfied: scipy in /usr/local/lib/python3.7/dist-packages (from shap) (1.4.1)\n",
            "Requirement already satisfied: scikit-learn in /usr/local/lib/python3.7/dist-packages (from shap) (0.22.2.post1)\n",
            "Requirement already satisfied: pandas in /usr/local/lib/python3.7/dist-packages (from shap) (1.1.5)\n",
            "Requirement already satisfied: tqdm>4.25.0 in /usr/local/lib/python3.7/dist-packages (from shap) (4.41.1)\n",
            "Collecting slicer==0.0.7\n",
            "  Downloading https://files.pythonhosted.org/packages/78/c2/b3f55dfdb8af9812fdb9baf70cacf3b9e82e505b2bd4324d588888b81202/slicer-0.0.7-py3-none-any.whl\n",
            "Requirement already satisfied: numba in /usr/local/lib/python3.7/dist-packages (from shap) (0.51.2)\n",
            "Requirement already satisfied: cloudpickle in /usr/local/lib/python3.7/dist-packages (from shap) (1.3.0)\n",
            "Requirement already satisfied: joblib>=0.11 in /usr/local/lib/python3.7/dist-packages (from scikit-learn->shap) (1.0.1)\n",
            "Requirement already satisfied: pytz>=2017.2 in /usr/local/lib/python3.7/dist-packages (from pandas->shap) (2018.9)\n",
            "Requirement already satisfied: python-dateutil>=2.7.3 in /usr/local/lib/python3.7/dist-packages (from pandas->shap) (2.8.1)\n",
            "Requirement already satisfied: llvmlite<0.35,>=0.34.0.dev0 in /usr/local/lib/python3.7/dist-packages (from numba->shap) (0.34.0)\n",
            "Requirement already satisfied: setuptools in /usr/local/lib/python3.7/dist-packages (from numba->shap) (57.0.0)\n",
            "Requirement already satisfied: six>=1.5 in /usr/local/lib/python3.7/dist-packages (from python-dateutil>=2.7.3->pandas->shap) (1.15.0)\n",
            "Building wheels for collected packages: shap\n",
            "  Building wheel for shap (setup.py) ... \u001b[?25l\u001b[?25hdone\n",
            "  Created wheel for shap: filename=shap-0.39.0-cp37-cp37m-linux_x86_64.whl size=491632 sha256=c8a60177a9657db5b6442ec68b0b84cd26245a65a3c70b75aa65ab6744d076ea\n",
            "  Stored in directory: /root/.cache/pip/wheels/15/27/f5/a8ab9da52fd159aae6477b5ede6eaaec69fd130fa0fa59f283\n",
            "Successfully built shap\n",
            "Installing collected packages: slicer, shap\n",
            "Successfully installed shap-0.39.0 slicer-0.0.7\n"
          ],
          "name": "stdout"
        }
      ]
    },
    {
      "cell_type": "code",
      "metadata": {
        "id": "x9yMlwdpD-Dd",
        "colab": {
          "base_uri": "https://localhost:8080/",
          "height": 212
        },
        "outputId": "caaf2aab-d3fe-4e94-deae-b21686c41bfd"
      },
      "source": [
        "import shap\n",
        "\n",
        "\n",
        "### SHAP\n",
        "explainer = shap.TreeExplainer(pipe_sel.named_steps['rf'])\n",
        "shap_values = explainer.shap_values(X_test_selected.iloc[:300])\n",
        "shap.summary_plot(shap_values, X_train_selected.iloc[:300])"
      ],
      "execution_count": 33,
      "outputs": [
        {
          "output_type": "display_data",
          "data": {
            "image/png": "[encoded data removed]",
            "text/plain": [
              "<Figure size 576x194.4 with 1 Axes>"
            ]
          },
          "metadata": {
            "tags": [],
            "needs_background": "light"
          }
        }
      ]
    }
  ]
}